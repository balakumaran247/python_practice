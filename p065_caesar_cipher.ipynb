{
 "cells": [
  {
   "cell_type": "markdown",
   "id": "announced-healing",
   "metadata": {},
   "source": [
    "## Caesar Cipher Problem"
   ]
  },
  {
   "cell_type": "code",
   "execution_count": 60,
   "id": "black-restriction",
   "metadata": {},
   "outputs": [],
   "source": [
    "alphabets = 'abcdefghijklmnopqrstuvwxyz'"
   ]
  },
  {
   "cell_type": "code",
   "execution_count": 61,
   "id": "formed-french",
   "metadata": {},
   "outputs": [],
   "source": [
    "def cipher(text,digit):\n",
    "    code=''\n",
    "    for alphabet in text.lower():\n",
    "        if alphabet not in alphabets:\n",
    "            code += str(alphabet)\n",
    "        else:\n",
    "            place = alphabets.index(alphabet)\n",
    "            if place+digit > len(alphabets)-1:\n",
    "                mplace = (place+digit)%len(alphabets)\n",
    "                code += str(alphabets[mplace])\n",
    "            else:\n",
    "                code += str(alphabets[place+digit])\n",
    "    return code"
   ]
  },
  {
   "cell_type": "code",
   "execution_count": 67,
   "id": "elect-validity",
   "metadata": {},
   "outputs": [
    {
     "data": {
      "text/plain": [
       "'hdbtiwxcv id ithi'"
      ]
     },
     "execution_count": 67,
     "metadata": {},
     "output_type": "execute_result"
    }
   ],
   "source": [
    "cipher('something to test',15)"
   ]
  },
  {
   "cell_type": "code",
   "execution_count": 68,
   "id": "employed-branch",
   "metadata": {},
   "outputs": [
    {
     "data": {
      "text/plain": [
       "'something to test'"
      ]
     },
     "execution_count": 68,
     "metadata": {},
     "output_type": "execute_result"
    }
   ],
   "source": [
    "cipher('hdbtiwxcv id ithi',-15)"
   ]
  },
  {
   "cell_type": "code",
   "execution_count": null,
   "id": "green-albert",
   "metadata": {},
   "outputs": [],
   "source": []
  }
 ],
 "metadata": {
  "kernelspec": {
   "display_name": "Python 3",
   "language": "python",
   "name": "python3"
  },
  "language_info": {
   "codemirror_mode": {
    "name": "ipython",
    "version": 3
   },
   "file_extension": ".py",
   "mimetype": "text/x-python",
   "name": "python",
   "nbconvert_exporter": "python",
   "pygments_lexer": "ipython3",
   "version": "3.6.12"
  }
 },
 "nbformat": 4,
 "nbformat_minor": 5
}
