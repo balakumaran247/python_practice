{
 "cells": [
  {
   "cell_type": "markdown",
   "id": "23d82253-8bd2-4643-82fd-6e35805659b3",
   "metadata": {},
   "source": [
    "# Assignment 5"
   ]
  },
  {
   "cell_type": "markdown",
   "id": "fea49f1e-8ef0-438c-90de-d48dd376825e",
   "metadata": {},
   "source": [
    "1. What does an empty dictionary&#39;s code look like?"
   ]
  },
  {
   "cell_type": "markdown",
   "id": "6a6366a2-f3f3-4c2b-bbfc-da0a3a32f73c",
   "metadata": {},
   "source": [
    "```python\n",
    "empty_dict1 = dict()\n",
    "empty_dict2 = {}\n",
    "```"
   ]
  },
  {
   "cell_type": "markdown",
   "id": "fdea93ac-41e3-4ade-9e23-89ca01a62079",
   "metadata": {},
   "source": [
    "2. What is the value of a dictionary value with the key &#39;foo&#39; and the value 42?"
   ]
  },
  {
   "cell_type": "markdown",
   "id": "67206a27-a43b-40d2-8d10-5200051626d6",
   "metadata": {},
   "source": [
    "42"
   ]
  },
  {
   "cell_type": "markdown",
   "id": "cd337132-aa6f-49ec-a9f8-61cc7f35695e",
   "metadata": {},
   "source": [
    "3. What is the most significant distinction between a dictionary and a list?"
   ]
  },
  {
   "cell_type": "markdown",
   "id": "a58aa02e-a066-4f3c-a2bb-0e4f154d3035",
   "metadata": {},
   "source": [
    "list is index based while dictionary is key based"
   ]
  },
  {
   "cell_type": "markdown",
   "id": "249b1cc1-5237-4626-bc7f-00fe82eb5cfd",
   "metadata": {},
   "source": [
    "4. What happens if you try to access spam[&#39;foo&#39;] if spam is {&#39;bar&#39;: 100}?"
   ]
  },
  {
   "cell_type": "markdown",
   "id": "22172a94-5ed0-46d5-aa27-563e6df2738d",
   "metadata": {},
   "source": [
    "result in KeyError"
   ]
  },
  {
   "cell_type": "markdown",
   "id": "bd30f39e-ae4f-4703-8ab7-740ff4ea081c",
   "metadata": {},
   "source": [
    "5. If a dictionary is stored in spam, what is the difference between the expressions &#39;cat&#39; in spam and\n",
    "&#39;cat&#39; in spam.keys()?"
   ]
  },
  {
   "cell_type": "markdown",
   "id": "107b389c-b3ad-47fd-8fb3-0508c6eaaa52",
   "metadata": {},
   "source": [
    "both the expressions give True as result if 'cat' is a key"
   ]
  },
  {
   "cell_type": "markdown",
   "id": "0668203d-3de0-4b4f-bce5-fa37d35d1e94",
   "metadata": {},
   "source": [
    "6. If a dictionary is stored in spam, what is the difference between the expressions &#39;cat&#39; in spam and\n",
    "&#39;cat&#39; in spam.values()?"
   ]
  },
  {
   "cell_type": "markdown",
   "id": "debc99bb-b53a-4daf-b1a0-9e6219799eae",
   "metadata": {},
   "source": [
    "'cat' in spam will be True if 'cat' is a key, 'cat' in spam.values() will be True if 'cat' is a value"
   ]
  },
  {
   "cell_type": "markdown",
   "id": "cd2d6a54-1784-4291-881a-784b03b54671",
   "metadata": {},
   "source": [
    "7. What is a shortcut for the following code?\n",
    "\n",
    "if &#39;color&#39; not in spam:\n",
    "\n",
    "spam[&#39;color&#39;] = &#39;black&#39;"
   ]
  },
  {
   "cell_type": "markdown",
   "id": "124faaa2-265d-4035-9776-72bfd5c3e51b",
   "metadata": {},
   "source": [
    "```python\n",
    "spam.setdefault('color', 'black')\n",
    "```"
   ]
  },
  {
   "cell_type": "markdown",
   "id": "04ab1dee-1240-46c2-8105-98b3b2e19e5b",
   "metadata": {},
   "source": [
    "8. How do you &quot;pretty print&quot; dictionary values using which module and function?"
   ]
  },
  {
   "cell_type": "markdown",
   "id": "828d1293-65ae-4879-be80-e2052aba7b5f",
   "metadata": {},
   "source": [
    "pprint module and PrettyPrinter function"
   ]
  },
  {
   "cell_type": "code",
   "execution_count": null,
   "id": "6d741f7e-5328-447b-9f7a-4ac44016bc91",
   "metadata": {},
   "outputs": [],
   "source": []
  }
 ],
 "metadata": {
  "kernelspec": {
   "display_name": "Python 3 (ipykernel)",
   "language": "python",
   "name": "python3"
  },
  "language_info": {
   "codemirror_mode": {
    "name": "ipython",
    "version": 3
   },
   "file_extension": ".py",
   "mimetype": "text/x-python",
   "name": "python",
   "nbconvert_exporter": "python",
   "pygments_lexer": "ipython3",
   "version": "3.10.6"
  }
 },
 "nbformat": 4,
 "nbformat_minor": 5
}
