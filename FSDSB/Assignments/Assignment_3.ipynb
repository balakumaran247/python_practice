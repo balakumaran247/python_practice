{
 "cells": [
  {
   "cell_type": "markdown",
   "id": "6a9f5daa-f298-4c6d-8260-dffa6a2653db",
   "metadata": {},
   "source": [
    "# Assignment 3"
   ]
  },
  {
   "cell_type": "markdown",
   "id": "01251a3f-e4a4-4333-ab99-87e5c08f82d6",
   "metadata": {},
   "source": [
    "1. Why are functions advantageous to have in your programs?"
   ]
  },
  {
   "cell_type": "markdown",
   "id": "b3866162-d0ed-48c5-bdd1-d7f868960268",
   "metadata": {},
   "source": [
    "Reuse, if a set of expressions are gonna be performed n number of times, then it is advantageous to have those inside a function."
   ]
  },
  {
   "cell_type": "markdown",
   "id": "b9c9dfb0-23a1-4623-aa40-b47f7121d653",
   "metadata": {},
   "source": [
    "2. When does the code in a function run: when it&#39;s specified or when it&#39;s called?"
   ]
  },
  {
   "cell_type": "markdown",
   "id": "ee24e970-9f4c-48ea-a532-4e5671cdfb90",
   "metadata": {},
   "source": [
    "function gets executed when it's called"
   ]
  },
  {
   "cell_type": "markdown",
   "id": "92440612-f7d4-4870-b88f-8496172e3b53",
   "metadata": {},
   "source": [
    "3. What statement creates a function?"
   ]
  },
  {
   "cell_type": "markdown",
   "id": "40439a54-6d27-4e99-b238-3fdad340dd69",
   "metadata": {},
   "source": [
    "a funtion is created, by defining a variable name,\n",
    "```python\n",
    "def my_function():\n",
    "    pass\n",
    "```"
   ]
  },
  {
   "cell_type": "markdown",
   "id": "d344977a-83b2-43f1-b4ee-0d5a02987429",
   "metadata": {},
   "source": [
    "4. What is the difference between a function and a function call?"
   ]
  },
  {
   "cell_type": "markdown",
   "id": "73ba78e3-ba1a-4b16-9e72-84f4a132c146",
   "metadata": {},
   "source": [
    "- function: function is a function object, which holds the series of statements to be executed\n",
    "- function call: function call is the execution of the function, a function is called with arguments if any.\n",
    "```python\n",
    "def my_function():\n",
    "    pass\n",
    "my_function # is the function\n",
    "my_function() # is the function call\n",
    "```"
   ]
  },
  {
   "cell_type": "markdown",
   "id": "ae2adf89-3474-4b1a-8603-4e0ecd1f98d2",
   "metadata": {},
   "source": [
    "5. How many global scopes are there in a Python program? How many local scopes?"
   ]
  },
  {
   "cell_type": "markdown",
   "id": "110f5976-396b-4a16-aa22-85962edb3794",
   "metadata": {},
   "source": [
    "- global : top-most module level scope\n",
    "- local : based on the number of functions (each function has its own local scope)"
   ]
  },
  {
   "cell_type": "markdown",
   "id": "d61c24af-77bb-422d-8667-2f9397cb6c71",
   "metadata": {},
   "source": [
    "6. What happens to variables in a local scope when the function call returns?"
   ]
  },
  {
   "cell_type": "markdown",
   "id": "1a9ba37e-6a4b-4a44-8e0f-0050285c6aaa",
   "metadata": {},
   "source": [
    "the variables in the local scope are deleted once the function call returns (return statement)"
   ]
  },
  {
   "cell_type": "markdown",
   "id": "83991e05-b273-442d-8033-75e6564449f8",
   "metadata": {},
   "source": [
    "7. What is the concept of a return value? Is it possible to have a return value in an expression?"
   ]
  },
  {
   "cell_type": "markdown",
   "id": "48544118-bd49-43c6-bb7b-41e8ce877351",
   "metadata": {},
   "source": [
    "\"return\" is used at the end of the function which terminates the function and returns the value or the expression following the 'return' keyword. yes, an expression upon execution returns a value which can be stored or assigned to a variable name."
   ]
  },
  {
   "cell_type": "markdown",
   "id": "9723d72c-97b7-4a7f-985e-3831656d3740",
   "metadata": {},
   "source": [
    "8. If a function does not have a return statement, what is the return value of a call to that function?"
   ]
  },
  {
   "cell_type": "markdown",
   "id": "3d7445e5-d16b-4ebe-9f0e-5e44868d2f4a",
   "metadata": {},
   "source": [
    "NoneType"
   ]
  },
  {
   "cell_type": "markdown",
   "id": "db690fcd-e19d-4062-8aeb-a3f224fd424d",
   "metadata": {},
   "source": [
    "9. How do you make a function variable refer to the global variable?"
   ]
  },
  {
   "cell_type": "markdown",
   "id": "430d5995-923f-41f5-b60c-43e18790a8fb",
   "metadata": {},
   "source": [
    "the local scope can access the variables in global scope, but not the other way around, so a variable inside a function can access a global variable without any keyword, but to make a local variable accessible to global variable we have use the 'global' keyword on the local variable to make it accessible to the global scope."
   ]
  },
  {
   "cell_type": "markdown",
   "id": "74fee561-71b3-43f2-bdbc-00683d94fba5",
   "metadata": {},
   "source": [
    "10. What is the data type of None?"
   ]
  },
  {
   "cell_type": "markdown",
   "id": "f81b0044-4777-4b61-b222-365489672b24",
   "metadata": {},
   "source": [
    "NoneType"
   ]
  },
  {
   "cell_type": "markdown",
   "id": "f34fbe8e-ab5f-4d7a-be8f-28d4756adbfb",
   "metadata": {},
   "source": [
    "11. What does the sentence import areallyourpetsnamederic do?"
   ]
  },
  {
   "cell_type": "markdown",
   "id": "7e4dc8fa-ca4e-44ac-b8a0-d9f94845fe01",
   "metadata": {},
   "source": [
    "`import areallyourpetsnamederic` will import the package or module named areallyourpetsnamederic into the current script or module. once imported all the class or function or variable inside the 'areallyourpetsnamederic' will be accessible in our current module"
   ]
  },
  {
   "cell_type": "markdown",
   "id": "436359d9-e28b-443b-9f21-e60015740958",
   "metadata": {},
   "source": [
    "12. If you had a bacon() feature in a spam module, what would you call it after importing spam?"
   ]
  },
  {
   "cell_type": "markdown",
   "id": "e7e75d47-00d8-44ac-888c-b38286c53a27",
   "metadata": {},
   "source": [
    "```python\n",
    "import spam\n",
    "spam.bacon()\n",
    "```"
   ]
  },
  {
   "cell_type": "markdown",
   "id": "d7201bd2-f0bc-4d9c-abe5-3065f9d754b9",
   "metadata": {},
   "source": [
    "13. What can you do to save a programme from crashing if it encounters an error?"
   ]
  },
  {
   "cell_type": "markdown",
   "id": "1ecf0434-1ef8-47a8-970d-22bbcbe62689",
   "metadata": {},
   "source": [
    "we could use try/except statement"
   ]
  },
  {
   "cell_type": "markdown",
   "id": "553c46ad-6a00-4208-ac8f-5ee77c46ef43",
   "metadata": {},
   "source": [
    "14. What is the purpose of the try clause? What is the purpose of the except clause?"
   ]
  },
  {
   "cell_type": "markdown",
   "id": "ec9eca1a-511b-4270-8438-27fff2057cd8",
   "metadata": {},
   "source": [
    "- try clause: will try to execute statement, if no error occurs then will proceed to the next set of statements\n",
    "- except clause: if statements in try clause faces with an error, then the except clause will catch the error and set of statements in the except clause will be executed when the exception is met."
   ]
  },
  {
   "cell_type": "markdown",
   "id": "fc5ba905-a7a8-4422-84d5-7c536c82ce5b",
   "metadata": {},
   "source": []
  }
 ],
 "metadata": {
  "kernelspec": {
   "display_name": "Python 3 (ipykernel)",
   "language": "python",
   "name": "python3"
  },
  "language_info": {
   "codemirror_mode": {
    "name": "ipython",
    "version": 3
   },
   "file_extension": ".py",
   "mimetype": "text/x-python",
   "name": "python",
   "nbconvert_exporter": "python",
   "pygments_lexer": "ipython3",
   "version": "3.10.6"
  }
 },
 "nbformat": 4,
 "nbformat_minor": 5
}
