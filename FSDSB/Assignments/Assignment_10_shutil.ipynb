{
 "cells": [
  {
   "cell_type": "markdown",
   "id": "3e6cdae1-aa14-4cab-a58b-a56e6acc788b",
   "metadata": {},
   "source": [
    "# Assignment 10"
   ]
  },
  {
   "cell_type": "markdown",
   "id": "b54430bd-882a-45e7-9162-67e86be40f8b",
   "metadata": {},
   "source": [
    "1. How do you distinguish between shutil.copy() and shutil.copytree()?"
   ]
  },
  {
   "cell_type": "markdown",
   "id": "3aff9afa-f688-48d6-a3a9-fd4aee1d7281",
   "metadata": {},
   "source": [
    "`shutil.copy()` - copies the file from source to destination, if file already exists it overwrites it.\n",
    "\n",
    "`shutil.copytree()` - copies all the files and sub directories inside the source directory to the destination location."
   ]
  },
  {
   "cell_type": "markdown",
   "id": "947b031f-6267-4dae-86cb-abf707c8cee1",
   "metadata": {},
   "source": [
    "2. What function is used to rename files??"
   ]
  },
  {
   "cell_type": "markdown",
   "id": "a8086661-d704-4db4-a835-edb55bf62791",
   "metadata": {},
   "source": [
    "`shutil.move()` can be used to rename a file, or `os.rename()` can also be used"
   ]
  },
  {
   "cell_type": "markdown",
   "id": "0f7ff0c2-cebc-4015-aa96-de5e292d299e",
   "metadata": {},
   "source": [
    "3. What is the difference between the delete functions in the send2trash and shutil modules?"
   ]
  },
  {
   "cell_type": "markdown",
   "id": "d6398690-c0be-444a-a472-78c8221156ce",
   "metadata": {},
   "source": [
    "`send2trash` will send the file to Recycle bin, whereas `shutil` will delete them permenantly"
   ]
  },
  {
   "cell_type": "markdown",
   "id": "2e9f1a9e-8228-4d1f-8ef2-47d5ac7fef4c",
   "metadata": {},
   "source": [
    "4. ZipFile objects have a close() method just like File objects’ close() method. What ZipFile method is\n",
    "equivalent to File objects’ open() method?"
   ]
  },
  {
   "cell_type": "markdown",
   "id": "ae58bc38-9f35-4a24-a662-f0211bcd2752",
   "metadata": {},
   "source": [
    "zipfile.ZipFile()"
   ]
  },
  {
   "cell_type": "markdown",
   "id": "de36d07b-0e73-4dfc-aeb6-3d6875309f60",
   "metadata": {},
   "source": [
    "5. Create a programme that searches a folder tree for files with a certain file extension (such as .pdf\n",
    "or .jpg). Copy these files from whatever location they are in to a new folder."
   ]
  },
  {
   "cell_type": "code",
   "execution_count": 72,
   "id": "d905bc50-4ca2-4391-8d7f-76fe49d49660",
   "metadata": {},
   "outputs": [],
   "source": [
    "import os, shutil\n",
    "\n",
    "def copy_files(src, dest, ext):\n",
    "    '''copy files of particular extension from souce\n",
    "    directory to destination directory\n",
    "    \n",
    "    Args:\n",
    "        src = path to source directory\n",
    "        dest = path to destination directory\n",
    "        ext = file with extension to copy (.txt, .pdf)\n",
    "    '''\n",
    "    for root, dirs, files in os.walk(src):\n",
    "        for file in files:\n",
    "            path = os.path.join(root, file)\n",
    "            if os.path.splitext(path)[1] == ext:\n",
    "                shutil.copy(path, dest)"
   ]
  },
  {
   "cell_type": "code",
   "execution_count": 69,
   "id": "e820afb9-b548-4910-bb90-870d6894c6be",
   "metadata": {},
   "outputs": [],
   "source": [
    "copy_files('./src', './dst', '.txt')"
   ]
  },
  {
   "cell_type": "code",
   "execution_count": null,
   "id": "7ee2e0e9-b04a-403a-b657-6217f0666f6c",
   "metadata": {},
   "outputs": [],
   "source": []
  }
 ],
 "metadata": {
  "kernelspec": {
   "display_name": "Python 3 (ipykernel)",
   "language": "python",
   "name": "python3"
  },
  "language_info": {
   "codemirror_mode": {
    "name": "ipython",
    "version": 3
   },
   "file_extension": ".py",
   "mimetype": "text/x-python",
   "name": "python",
   "nbconvert_exporter": "python",
   "pygments_lexer": "ipython3",
   "version": "3.10.6"
  }
 },
 "nbformat": 4,
 "nbformat_minor": 5
}
