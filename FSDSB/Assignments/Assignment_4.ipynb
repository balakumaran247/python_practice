{
 "cells": [
  {
   "cell_type": "markdown",
   "id": "7168b836-769f-4a92-b517-4394359e4891",
   "metadata": {},
   "source": [
    "# Assignment 4"
   ]
  },
  {
   "cell_type": "markdown",
   "id": "c2d8ca21-c346-4ffc-8b75-4d283ba708d8",
   "metadata": {},
   "source": [
    "1. What exactly is []?"
   ]
  },
  {
   "cell_type": "markdown",
   "id": "7f0e6c70-8e6d-4511-8784-455025fe4169",
   "metadata": {},
   "source": [
    "empty list"
   ]
  },
  {
   "cell_type": "markdown",
   "id": "47664c3e-317b-49f2-bb38-4e06da4d1996",
   "metadata": {},
   "source": [
    "2. In a list of values stored in a variable called spam, how would you assign the value &#39;hello&#39; as the\n",
    "third value? (Assume [2, 4, 6, 8, 10] are in spam.)"
   ]
  },
  {
   "cell_type": "markdown",
   "id": "a7e8661b-151a-48a4-bc83-55dfd8be7376",
   "metadata": {},
   "source": [
    "```python\n",
    "spam.insert(2, 'hello')\n",
    "```"
   ]
  },
  {
   "cell_type": "markdown",
   "id": "53e0b91c-4924-40f4-b2d1-cd7708faacb5",
   "metadata": {},
   "source": [
    "Let&#39;s pretend the spam includes the list [&#39;a&#39;, &#39;b&#39;, &#39;c&#39;, &#39;d&#39;] for the next three queries.\n",
    "\n",
    "3. What is the value of spam[int(int(&#39;3&#39; * 2) / 11)]?"
   ]
  },
  {
   "cell_type": "markdown",
   "id": "8724e229-e72e-4a07-a949-43ff914a1a80",
   "metadata": {},
   "source": [
    "'d'"
   ]
  },
  {
   "cell_type": "markdown",
   "id": "609b7dfb-e792-4b0f-b367-54366d7f9a24",
   "metadata": {},
   "source": [
    "4. What is the value of spam[-1]?"
   ]
  },
  {
   "cell_type": "markdown",
   "id": "d4b17488-b28b-4e7f-9259-0bfd510e14b3",
   "metadata": {},
   "source": [
    "'d'"
   ]
  },
  {
   "cell_type": "markdown",
   "id": "726a71ab-4743-4515-8f2b-c90343a5a1bb",
   "metadata": {},
   "source": [
    "5. What is the value of spam[:2]?"
   ]
  },
  {
   "cell_type": "markdown",
   "id": "adbaa9dd-9160-4289-8b7b-840954b1e611",
   "metadata": {},
   "source": [
    "```python\n",
    "['a','b']\n",
    "```"
   ]
  },
  {
   "cell_type": "markdown",
   "id": "ece67f75-3e0c-48ba-a46d-9457f9548a99",
   "metadata": {},
   "source": [
    "Let&#39;s pretend bacon has the list [3.14, &#39;cat,&#39; 11, &#39;cat,&#39; True] for the next three questions.\n",
    "\n",
    "6. What is the value of bacon.index(&#39;cat&#39;)?"
   ]
  },
  {
   "cell_type": "markdown",
   "id": "fcdf7687-e410-46bc-b533-30bb6780052f",
   "metadata": {},
   "source": [
    "1"
   ]
  },
  {
   "cell_type": "markdown",
   "id": "7289a8ba-35cd-46ec-8f81-3119c745e74a",
   "metadata": {},
   "source": [
    "7. How does bacon.append(99) change the look of the list value in bacon?"
   ]
  },
  {
   "cell_type": "markdown",
   "id": "d8e0d4af-d1d8-4437-9996-35b4ca40cf74",
   "metadata": {},
   "source": [
    "```python\n",
    "[3.14, 'cat', 11, 'cat,' True, 99]\n",
    "```"
   ]
  },
  {
   "cell_type": "markdown",
   "id": "4d6ef751-d6a5-48a0-af43-7d05307ff9a3",
   "metadata": {},
   "source": [
    "8. How does bacon.remove(&#39;cat&#39;) change the look of the list in bacon?"
   ]
  },
  {
   "cell_type": "markdown",
   "id": "df10634c-58d9-4c1f-ba33-41a56f183d84",
   "metadata": {},
   "source": [
    "```python\n",
    "[3.14, 11, 'cat,' True, 99]\n",
    "```"
   ]
  },
  {
   "cell_type": "markdown",
   "id": "af228ccd-221c-46a5-a6bb-f3cfd38d40e3",
   "metadata": {},
   "source": [
    "9. What are the list concatenation and list replication operators?"
   ]
  },
  {
   "cell_type": "markdown",
   "id": "799b5548-48a0-4204-867d-633e2fa71657",
   "metadata": {},
   "source": [
    "## list concatenation:\n",
    "- my_list = list1 + list2\n",
    "- list1.extend(list2)\n",
    "## list replication:\n",
    "- my_list = my_list*3\n",
    "- my_list *= 3"
   ]
  },
  {
   "cell_type": "markdown",
   "id": "97b4528d-dfe8-4c3d-acd6-9c9b04fb09ee",
   "metadata": {},
   "source": [
    "10. What is difference between the list methods append() and insert()?"
   ]
  },
  {
   "cell_type": "markdown",
   "id": "e97a1331-09aa-4192-8cdf-85d9ddcf43fa",
   "metadata": {},
   "source": [
    "- append: this will insert an element to the end of the string\n",
    "- insert: this can insert an element at any specified index"
   ]
  },
  {
   "cell_type": "markdown",
   "id": "94e8745e-c402-43db-b9a6-833f75c40df6",
   "metadata": {},
   "source": [
    "11. What are the two methods for removing items from a list?"
   ]
  },
  {
   "cell_type": "markdown",
   "id": "5fc71457-7164-4823-832c-6291ca5b81db",
   "metadata": {},
   "source": [
    "- pop()\n",
    "- remove()"
   ]
  },
  {
   "cell_type": "markdown",
   "id": "3a61d48a-cbb7-4053-83f1-6283996544cc",
   "metadata": {},
   "source": [
    "12. Describe how list values and string values are identical."
   ]
  },
  {
   "cell_type": "markdown",
   "id": "1488b87e-1039-43dc-aab2-47effcda460f",
   "metadata": {},
   "source": [
    "list and string are iterable. can be concatenated and replicated. can perform indexing operation to get subset."
   ]
  },
  {
   "cell_type": "markdown",
   "id": "7d177ab3-9eaf-4d7f-8b91-df3e7f28ee9f",
   "metadata": {},
   "source": [
    "13. What&#39;s the difference between tuples and lists?"
   ]
  },
  {
   "cell_type": "markdown",
   "id": "663a2984-af87-497f-93e3-6db7aad42730",
   "metadata": {},
   "source": [
    "tuples are immutable while lists are mutable. due to this nature tuples take less memory than list."
   ]
  },
  {
   "cell_type": "markdown",
   "id": "f2ee864c-ca68-4ed1-a83c-b69f097cb56b",
   "metadata": {},
   "source": [
    "14. How do you type a tuple value that only contains the integer 42?"
   ]
  },
  {
   "cell_type": "markdown",
   "id": "78620f19-6d2e-4768-a35b-40328a1d2ac6",
   "metadata": {},
   "source": [
    "```python\n",
    "t = (42,)\n",
    "```"
   ]
  },
  {
   "cell_type": "markdown",
   "id": "a74777cd-3b86-46d6-86ed-a5345288b5cc",
   "metadata": {},
   "source": [
    "15. How do you get a list value&#39;s tuple form? How do you get a tuple value&#39;s list form?"
   ]
  },
  {
   "cell_type": "markdown",
   "id": "8ce5314d-a633-4918-9c37-c21fa71f8a55",
   "metadata": {},
   "source": [
    "```python\n",
    "list(my_tuple)\n",
    "tuple(my_list)\n",
    "```"
   ]
  },
  {
   "cell_type": "markdown",
   "id": "07a1e32e-3951-4980-a3b2-95b2a97e1f2b",
   "metadata": {},
   "source": [
    "16. Variables that &quot;contain&quot; list values are not necessarily lists themselves. Instead, what do they\n",
    "contain?"
   ]
  },
  {
   "cell_type": "markdown",
   "id": "3ed95b9a-8155-4168-a00f-dda3d9c64d7f",
   "metadata": {},
   "source": [
    "they contain only references to the values"
   ]
  },
  {
   "cell_type": "markdown",
   "id": "449c2e68-6887-49b3-80c5-73a9a1eba905",
   "metadata": {},
   "source": [
    "17. How do you distinguish between copy.copy() and copy.deepcopy()?"
   ]
  },
  {
   "cell_type": "markdown",
   "id": "fb0610dc-ad5a-4c85-93ae-a33aef52fc38",
   "metadata": {},
   "source": [
    "- copy - will create a new object with references to the values, changing the original changes the copy.\n",
    "- deepcopy - will create a new object with copies of the values , changing the original does not change the copy."
   ]
  },
  {
   "cell_type": "code",
   "execution_count": null,
   "id": "310776e2-0bae-4168-9662-e482c2c39751",
   "metadata": {},
   "outputs": [],
   "source": []
  }
 ],
 "metadata": {
  "kernelspec": {
   "display_name": "Python 3 (ipykernel)",
   "language": "python",
   "name": "python3"
  },
  "language_info": {
   "codemirror_mode": {
    "name": "ipython",
    "version": 3
   },
   "file_extension": ".py",
   "mimetype": "text/x-python",
   "name": "python",
   "nbconvert_exporter": "python",
   "pygments_lexer": "ipython3",
   "version": "3.10.6"
  }
 },
 "nbformat": 4,
 "nbformat_minor": 5
}
