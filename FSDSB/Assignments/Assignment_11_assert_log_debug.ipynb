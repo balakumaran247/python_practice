{
 "cells": [
  {
   "cell_type": "markdown",
   "id": "869bddf0-dcc7-4fbe-b7f7-e4d2ab95ca81",
   "metadata": {},
   "source": [
    "# Assignment 11"
   ]
  },
  {
   "cell_type": "markdown",
   "id": "e4216360-8258-420e-8110-493a6a36e9ab",
   "metadata": {},
   "source": [
    "1. Create an assert statement that throws an AssertionError if the variable spam is a negative integer."
   ]
  },
  {
   "cell_type": "code",
   "execution_count": 3,
   "id": "a6684110-8c27-4d98-b38c-f0be4f5ec778",
   "metadata": {},
   "outputs": [
    {
     "name": "stdin",
     "output_type": "stream",
     "text": [
      "enter a number:  -1\n"
     ]
    },
    {
     "ename": "AssertionError",
     "evalue": "",
     "output_type": "error",
     "traceback": [
      "\u001b[0;31m---------------------------------------------------------------------------\u001b[0m",
      "\u001b[0;31mAssertionError\u001b[0m                            Traceback (most recent call last)",
      "Cell \u001b[0;32mIn [3], line 2\u001b[0m\n\u001b[1;32m      1\u001b[0m spam \u001b[38;5;241m=\u001b[39m \u001b[38;5;28mint\u001b[39m(\u001b[38;5;28minput\u001b[39m(\u001b[38;5;124m'\u001b[39m\u001b[38;5;124menter a number: \u001b[39m\u001b[38;5;124m'\u001b[39m))\n\u001b[0;32m----> 2\u001b[0m \u001b[38;5;28;01massert\u001b[39;00m spam \u001b[38;5;241m>\u001b[39m \u001b[38;5;241m0\u001b[39m\n",
      "\u001b[0;31mAssertionError\u001b[0m: "
     ]
    }
   ],
   "source": [
    "spam = int(input('enter a number: '))\n",
    "assert spam > 0"
   ]
  },
  {
   "cell_type": "markdown",
   "id": "71b62bb4-51de-49ee-a0f1-5e2d2b01819d",
   "metadata": {},
   "source": [
    "2. Write an assert statement that triggers an AssertionError if the variables eggs and bacon contain strings that are the same as each other, even if their cases are different (that is, 'hello' and 'hello' are considered the same, and 'goodbye' and 'GOODbye' are also considered the same)."
   ]
  },
  {
   "cell_type": "code",
   "execution_count": 6,
   "id": "bff91590-d987-4c9e-8cc6-d49fd67b9ebd",
   "metadata": {},
   "outputs": [
    {
     "name": "stdin",
     "output_type": "stream",
     "text": [
      "enter a word:  goodbye\n",
      "enter a word:  GOODbye\n"
     ]
    },
    {
     "ename": "AssertionError",
     "evalue": "",
     "output_type": "error",
     "traceback": [
      "\u001b[0;31m---------------------------------------------------------------------------\u001b[0m",
      "\u001b[0;31mAssertionError\u001b[0m                            Traceback (most recent call last)",
      "Cell \u001b[0;32mIn [6], line 3\u001b[0m\n\u001b[1;32m      1\u001b[0m eggs \u001b[38;5;241m=\u001b[39m \u001b[38;5;28minput\u001b[39m(\u001b[38;5;124m'\u001b[39m\u001b[38;5;124menter a word: \u001b[39m\u001b[38;5;124m'\u001b[39m)\n\u001b[1;32m      2\u001b[0m bacon \u001b[38;5;241m=\u001b[39m \u001b[38;5;28minput\u001b[39m(\u001b[38;5;124m'\u001b[39m\u001b[38;5;124menter a word: \u001b[39m\u001b[38;5;124m'\u001b[39m)\n\u001b[0;32m----> 3\u001b[0m \u001b[38;5;28;01massert\u001b[39;00m eggs\u001b[38;5;241m.\u001b[39mlower() \u001b[38;5;241m!=\u001b[39m bacon\u001b[38;5;241m.\u001b[39mlower()\n",
      "\u001b[0;31mAssertionError\u001b[0m: "
     ]
    }
   ],
   "source": [
    "eggs = input('enter a word: ')\n",
    "bacon = input('enter a word: ')\n",
    "assert eggs.lower() != bacon.lower()"
   ]
  },
  {
   "cell_type": "markdown",
   "id": "427c9b46-636d-4854-a722-81b8cfe61519",
   "metadata": {},
   "source": [
    "3. Create an assert statement that throws an AssertionError every time."
   ]
  },
  {
   "cell_type": "code",
   "execution_count": 8,
   "id": "2cd6d132-847c-4b5d-bfa2-828de3fc56fc",
   "metadata": {},
   "outputs": [
    {
     "ename": "AssertionError",
     "evalue": "",
     "output_type": "error",
     "traceback": [
      "\u001b[0;31m---------------------------------------------------------------------------\u001b[0m",
      "\u001b[0;31mAssertionError\u001b[0m                            Traceback (most recent call last)",
      "Cell \u001b[0;32mIn [8], line 1\u001b[0m\n\u001b[0;32m----> 1\u001b[0m \u001b[38;5;28;01massert\u001b[39;00m \u001b[38;5;28;01mTrue\u001b[39;00m \u001b[38;5;241m==\u001b[39m \u001b[38;5;28;01mFalse\u001b[39;00m\n",
      "\u001b[0;31mAssertionError\u001b[0m: "
     ]
    }
   ],
   "source": [
    "assert True == False"
   ]
  },
  {
   "cell_type": "markdown",
   "id": "ade5e7bd-8378-4bda-8e74-a257941f80c8",
   "metadata": {},
   "source": [
    "4. What are the two lines that must be present in your software in order to call logging.debug()?"
   ]
  },
  {
   "cell_type": "markdown",
   "id": "a6a8ce57-3568-4109-87c7-08b946ff6eb0",
   "metadata": {},
   "source": [
    "```python\n",
    "import logging\n",
    "logging.basicConfig()\n",
    "```"
   ]
  },
  {
   "cell_type": "markdown",
   "id": "d723653f-d6db-4ec2-ae1e-55a49c6eb404",
   "metadata": {},
   "source": [
    "5. What are the two lines that your program must have in order to have logging.debug() send a logging message to a file named programLog.txt?"
   ]
  },
  {
   "cell_type": "markdown",
   "id": "665b6421-12bb-41f4-a583-f9b93ff2c609",
   "metadata": {},
   "source": [
    "```python\n",
    "import logging\n",
    "logging.basicConfig(filename='programLog.txt')\n",
    "```"
   ]
  },
  {
   "cell_type": "markdown",
   "id": "8aade630-c97b-489c-ab6d-632244f23f40",
   "metadata": {},
   "source": [
    "6. What are the five levels of logging?"
   ]
  },
  {
   "cell_type": "markdown",
   "id": "cc71ad6e-d7ef-4907-b62f-294090bfcd55",
   "metadata": {},
   "source": [
    "- DEBUG\n",
    "- INFO\n",
    "- WARNING\n",
    "- ERROR\n",
    "- CRITICAL"
   ]
  },
  {
   "cell_type": "markdown",
   "id": "d919de03-e190-4809-8bd4-4051eaf3c9a0",
   "metadata": {},
   "source": [
    "7. What line of code would you add to your software to disable all logging messages?"
   ]
  },
  {
   "cell_type": "markdown",
   "id": "d620e310-242d-45ac-9bc0-cf6d5d7eaa9d",
   "metadata": {},
   "source": [
    "- for disabling any log below level CRITICAL so basically all logging messages:\n",
    "```python\n",
    "logging.disable(logging.CRITICAL)\n",
    "```\n",
    "- if need to disable only below certain level, provide the level as argument for logging.disable()"
   ]
  },
  {
   "cell_type": "markdown",
   "id": "d0ecd026-14e5-40fc-97dd-05bc9a244d90",
   "metadata": {},
   "source": [
    "8. Why is using logging messages better than using print() to display the same message?"
   ]
  },
  {
   "cell_type": "markdown",
   "id": "c69686b8-5ee7-4e18-8fe7-379c96365a82",
   "metadata": {},
   "source": [
    "- print just displays message to console\n",
    "- logging can do both File Handling and Stream Handling (console)\n",
    "\n",
    "- print will not be available after exiting the console\n",
    "- log files will exist for debugging later\n",
    "\n",
    "- print time of execution is difficult\n",
    "- logging of time of execution and several messages is easier"
   ]
  },
  {
   "cell_type": "markdown",
   "id": "6a379e0a-7579-4969-bdfa-7fbec1f6c1cb",
   "metadata": {},
   "source": [
    "9. What are the differences between the Step Over, Step In, and Step Out buttons in the debugger?"
   ]
  },
  {
   "cell_type": "markdown",
   "id": "f8e2ee1e-1b90-4cc5-b2fb-ff3ddb0c1a7c",
   "metadata": {},
   "source": [
    "- Step In: when the debugging pauses at the breakpoint placed in line of function call, step in would move into the function call and execute line by line upon pressing step in continuously\n",
    "\n",
    "- Step Out: when the debugging executes line by line inside a function call, pressing step out will execute the rest of the lines in the function in a single go and pauses at the line after the function call\n",
    "\n",
    "- Step Over: when debugging pauses at the breakpoint placed in line of function call, step over will execute the entire function call in a single go and pauses at the line after the function call"
   ]
  },
  {
   "cell_type": "markdown",
   "id": "58902165-9a8f-46f7-8721-9aa872d05c23",
   "metadata": {},
   "source": [
    "10. After you click Continue, when will the debugger stop ?"
   ]
  },
  {
   "cell_type": "markdown",
   "id": "5042ebd1-b9c6-4643-a792-e6ac10c682f4",
   "metadata": {},
   "source": [
    "Continue will make the debugger execute the program and stop at the end of the program or at the next breakpoint"
   ]
  },
  {
   "cell_type": "markdown",
   "id": "90b6e780-4242-45f6-890c-033d6d08d965",
   "metadata": {},
   "source": [
    "11. What is the concept of a breakpoint?"
   ]
  },
  {
   "cell_type": "markdown",
   "id": "ecbbd917-3ed4-4988-af12-7b302f4e8d42",
   "metadata": {},
   "source": [
    "breakpoint is a marker place in a line of code where the debugger will pause the execution of code"
   ]
  },
  {
   "cell_type": "code",
   "execution_count": null,
   "id": "e8f76cfc-dd27-4131-a245-e6f4ed384f3d",
   "metadata": {},
   "outputs": [],
   "source": []
  }
 ],
 "metadata": {
  "kernelspec": {
   "display_name": "Python 3 (ipykernel)",
   "language": "python",
   "name": "python3"
  },
  "language_info": {
   "codemirror_mode": {
    "name": "ipython",
    "version": 3
   },
   "file_extension": ".py",
   "mimetype": "text/x-python",
   "name": "python",
   "nbconvert_exporter": "python",
   "pygments_lexer": "ipython3",
   "version": "3.10.6"
  }
 },
 "nbformat": 4,
 "nbformat_minor": 5
}
