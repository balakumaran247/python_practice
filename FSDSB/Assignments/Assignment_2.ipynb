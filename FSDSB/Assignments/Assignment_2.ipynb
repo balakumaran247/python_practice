{
 "cells": [
  {
   "cell_type": "markdown",
   "id": "30139002-02c5-425d-ae21-8445ea564d0c",
   "metadata": {},
   "source": [
    "# Assignment 2"
   ]
  },
  {
   "cell_type": "markdown",
   "id": "16cd9076-ac45-4203-8f1b-4882f49fcd13",
   "metadata": {},
   "source": [
    "1. What are the two values of the Boolean data type? How do you write them?"
   ]
  },
  {
   "cell_type": "markdown",
   "id": "35cacd0a-65f4-4299-ba3e-2a4f7369892f",
   "metadata": {},
   "source": [
    "Boolean data type has two values true and false.\n",
    "In python Boolean values are written as True and False. (first letter capitalized)"
   ]
  },
  {
   "cell_type": "markdown",
   "id": "c9e99acc-1c8c-4473-9f2b-469f66a5474a",
   "metadata": {},
   "source": [
    "2. What are the three different types of Boolean operators?"
   ]
  },
  {
   "cell_type": "markdown",
   "id": "8e99a244-b61b-497b-9e4f-6b7bebbe98f6",
   "metadata": {},
   "source": [
    "- AND\n",
    "- OR\n",
    "- NOT"
   ]
  },
  {
   "cell_type": "markdown",
   "id": "d041d96e-6809-424f-b88d-ee78f8681986",
   "metadata": {},
   "source": [
    "3. Make a list of each Boolean operator&#39;s truth tables (i.e. every possible combination of Boolean\n",
    "values for the operator and what it evaluate )."
   ]
  },
  {
   "cell_type": "markdown",
   "id": "0e0baed1-de63-438f-9e9c-02a833442333",
   "metadata": {},
   "source": [
    "| condition | Result |  Reason\n",
    "|-------------|------------|---------------|\n",
    "|Var1 and Var2 | True | if both Var1 and Var2 have boolean value True|\n",
    "|Var1 and Var2 | False | if either Var1 or Var2 have value False|\n",
    "|Var1 or Var2 | True | if either Var1 or Var2 or both is True |\n",
    "|Var1 or Var2 | False | if both Var1 and Var2 are False |\n",
    "|not Var1 | True | if Var1 is False, result of not operator is True and vice versa|"
   ]
  },
  {
   "cell_type": "markdown",
   "id": "ea39b381-9374-4509-9512-7fdc4a39a1cc",
   "metadata": {},
   "source": [
    "4. What are the values of the following expressions?\n",
    "\n",
    "(5 &gt; 4) and (3 == 5)\n",
    "\n",
    "not (5 &gt; 4)\n",
    "\n",
    "(5 &gt; 4) or (3 == 5)\n",
    "\n",
    "not ((5 &gt; 4) or (3 == 5))\n",
    "\n",
    "(True and True) and (True == False)\n",
    "\n",
    "(not False) or (not True)"
   ]
  },
  {
   "cell_type": "markdown",
   "id": "41d865f4-84d5-488c-b0d1-b2f5f035dbaf",
   "metadata": {},
   "source": [
    "- (5 > 4) and (3 == 5) : False\n",
    "- not (5 > 4) : False\n",
    "- (5 > 4) or (3 == 5) : True\n",
    "- not ((5 > 4) or (3 == 5)) : False\n",
    "- (True and True) and (True == False) : False\n",
    "- (not False) or (not True) : True"
   ]
  },
  {
   "cell_type": "markdown",
   "id": "0d9e5e03-a4b6-4995-b4ce-ddfb247f7635",
   "metadata": {},
   "source": [
    "5. What are the six comparison operators?"
   ]
  },
  {
   "cell_type": "markdown",
   "id": "c1edd6ad-c2e8-4f8b-a4d6-61eb4cfbfa12",
   "metadata": {},
   "source": [
    "- greater than (>)\n",
    "- lesser than (<)\n",
    "- greater than equal to (>=)\n",
    "- lesser than equal to (<=)\n",
    "- equal to (==)\n",
    "- not equal to (!=)"
   ]
  },
  {
   "cell_type": "markdown",
   "id": "eb33ff96-98ee-469f-aa07-6d08c289c17c",
   "metadata": {},
   "source": [
    "6. How do you tell the difference between the equal to and assignment operators?Describe a\n",
    "condition and when you would use one."
   ]
  },
  {
   "cell_type": "markdown",
   "id": "5ec7d71e-94fd-42db-a8e7-fc4d49682e59",
   "metadata": {},
   "source": [
    "- equal to (comparison operator) has two '=' signs in an expression, while the assignment operator will have only one '=' sign with variable name on the left side and value on the right side.\n",
    "- To find out if a variable (my_number) is equal to a value the following expression will be used,\n",
    "```python\n",
    "my_number == 6\n",
    "# this expression will be True if my_number's value is 6 or False if not\n",
    "```\n",
    "- To assign a value to a variable name (my_number) we will use the '=' operatior,\n",
    "```python\n",
    "my_number = 6\n",
    "# now the variable my_number will have a value of 6\n",
    "```"
   ]
  },
  {
   "cell_type": "markdown",
   "id": "fcd7a5eb-0dbf-4946-b651-aa5603bcae1e",
   "metadata": {},
   "source": [
    "7. Identify the three blocks in this code:\n",
    "```python\n",
    "spam = 0\n",
    "if spam == 10:\n",
    "print('eggs')\n",
    "if spam > 5:\n",
    "print('bacon')\n",
    "else:\n",
    "print('ham')\n",
    "print('spam')\n",
    "print('spam')\n",
    "```"
   ]
  },
  {
   "cell_type": "markdown",
   "id": "ef527e73-53bc-46f2-bd3e-c0825467e96c",
   "metadata": {},
   "source": [
    "- block one - assignment operator\n",
    "```python\n",
    "spam = 0\n",
    "```\n",
    "- block two - if condition\n",
    "```python\n",
    "if spam == 10:\n",
    "    print('eggs')\n",
    "```\n",
    "- block three - if/else condition\n",
    "```python\n",
    "if spam > 5:\n",
    "    print('bacon')\n",
    "else:\n",
    "    print('ham')\n",
    "    print('spam')\n",
    "    print('spam')\n",
    "```"
   ]
  },
  {
   "cell_type": "markdown",
   "id": "4e186009-80b0-47c9-ad1e-ce3ccf6b2ef4",
   "metadata": {},
   "source": [
    "8. Write code that prints Hello if 1 is stored in spam, prints Howdy if 2 is stored in spam, and prints\n",
    "Greetings! if anything else is stored in spam."
   ]
  },
  {
   "cell_type": "code",
   "execution_count": 3,
   "id": "6b4a41d7-dd08-47e7-b6c2-dab35c09338d",
   "metadata": {},
   "outputs": [
    {
     "name": "stdout",
     "output_type": "stream",
     "text": [
      "Hello\n"
     ]
    }
   ],
   "source": [
    "spam = 1\n",
    "if spam == 1:\n",
    "    print('Hello')\n",
    "elif spam == 2:\n",
    "    print('Howdy')\n",
    "else:\n",
    "    print('Greetings!')"
   ]
  },
  {
   "cell_type": "markdown",
   "id": "2387278d-0d86-4ee5-946c-46f10e061ef8",
   "metadata": {},
   "source": [
    "9.If your programme is stuck in an endless loop, what keys you’ll press?"
   ]
  },
  {
   "cell_type": "markdown",
   "id": "8474fdf3-7111-40d5-809c-721eeb2f71b3",
   "metadata": {},
   "source": [
    "ctrl + c"
   ]
  },
  {
   "cell_type": "markdown",
   "id": "ac7a5cc8-59ca-4471-a14c-c93ea0819f53",
   "metadata": {},
   "source": [
    "10. How can you tell the difference between break and continue?"
   ]
  },
  {
   "cell_type": "markdown",
   "id": "22655b81-85f9-4be8-b5b1-bcac250a82ea",
   "metadata": {},
   "source": [
    "- break: will end the entire loop from further execution and move onto the next statement in the code\n",
    "- continue: will skip that iteration from executing further lines and continues to the next iteration"
   ]
  },
  {
   "cell_type": "markdown",
   "id": "b5467a39-0b21-4f6e-8cf2-474d7a2d602f",
   "metadata": {},
   "source": [
    "11. In a for loop, what is the difference between range(10), range(0, 10), and range(0, 10, 1)?"
   ]
  },
  {
   "cell_type": "markdown",
   "id": "3e69bee0-a28f-4354-93b0-362514484df9",
   "metadata": {},
   "source": [
    "- no difference, all three are a list of numbers from 0 to 9\n",
    "- range(10) : when starting number is not provided python will start from 0 and proceed till 9, 10 will be excluded\n",
    "- range(0,10) : starting from 0 and proceed till 9, 10 will be excluded\n",
    "- range(0,10,1) : starting from 0 and proceed till 9 with each number as a step count of 1, 10 will be excluded"
   ]
  },
  {
   "cell_type": "markdown",
   "id": "acee890b-a08c-46f5-a7bb-a89d87b90e3a",
   "metadata": {},
   "source": [
    "12. Write a short program that prints the numbers 1 to 10 using a for loop. Then write an equivalent\n",
    "program that prints the numbers 1 to 10 using a while loop."
   ]
  },
  {
   "cell_type": "code",
   "execution_count": 6,
   "id": "24833461-0175-447e-a50f-1fb53f677d95",
   "metadata": {},
   "outputs": [
    {
     "name": "stdout",
     "output_type": "stream",
     "text": [
      "1\n",
      "2\n",
      "3\n",
      "4\n",
      "5\n",
      "6\n",
      "7\n",
      "8\n",
      "9\n",
      "10\n",
      "1\n",
      "2\n",
      "3\n",
      "4\n",
      "5\n",
      "6\n",
      "7\n",
      "8\n",
      "9\n",
      "10\n"
     ]
    }
   ],
   "source": [
    "for num in range(1,11):\n",
    "    print(num)\n",
    "num2 = 1\n",
    "while num2 < 11:\n",
    "    print(num2)\n",
    "    num2 += 1"
   ]
  },
  {
   "cell_type": "markdown",
   "id": "938621bb-9a9b-43a4-b2bd-0c078e75ac05",
   "metadata": {},
   "source": [
    "13. If you had a function named bacon() inside a module named spam, how would you call it after\n",
    "importing spam?"
   ]
  },
  {
   "cell_type": "markdown",
   "id": "799b3941-a14f-4826-a724-c0481bacb11f",
   "metadata": {},
   "source": [
    "spam.bacon()"
   ]
  },
  {
   "cell_type": "code",
   "execution_count": null,
   "id": "c2a20e16-a307-411f-8e28-57dd3b76ff7f",
   "metadata": {},
   "outputs": [],
   "source": []
  }
 ],
 "metadata": {
  "kernelspec": {
   "display_name": "Python 3 (ipykernel)",
   "language": "python",
   "name": "python3"
  },
  "language_info": {
   "codemirror_mode": {
    "name": "ipython",
    "version": 3
   },
   "file_extension": ".py",
   "mimetype": "text/x-python",
   "name": "python",
   "nbconvert_exporter": "python",
   "pygments_lexer": "ipython3",
   "version": "3.10.6"
  }
 },
 "nbformat": 4,
 "nbformat_minor": 5
}
