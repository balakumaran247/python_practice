{
 "cells": [
  {
   "cell_type": "markdown",
   "id": "164d4a2e-8ba3-4f8c-8429-01eb78673ac5",
   "metadata": {},
   "source": [
    "# Assignment 6"
   ]
  },
  {
   "cell_type": "markdown",
   "id": "edef0c01-3682-48b1-8c9d-0c48a5281167",
   "metadata": {},
   "source": [
    "1. What are escape characters, and how do you use them?"
   ]
  },
  {
   "cell_type": "markdown",
   "id": "9f1623ec-d5cb-4fe5-9f45-40ab99dd097c",
   "metadata": {},
   "source": [
    "escape characters are used in a string to perform some special task and usually starts with a backward slash ('\\')"
   ]
  },
  {
   "cell_type": "markdown",
   "id": "ae91e823-2ac9-475c-a4b6-4757cda41d67",
   "metadata": {},
   "source": [
    "2. What do the escape characters n and t stand for?"
   ]
  },
  {
   "cell_type": "markdown",
   "id": "868b5499-5ad1-4c0a-8d9c-bec53affda44",
   "metadata": {},
   "source": [
    "- n stands for new line\n",
    "- t stands for tab space"
   ]
  },
  {
   "cell_type": "markdown",
   "id": "3eb1f2e4-d10b-4d4d-9bd7-9f4662f28ce1",
   "metadata": {},
   "source": [
    "3. What is the way to include backslash characters in a string?"
   ]
  },
  {
   "cell_type": "markdown",
   "id": "fffecfc3-4f4a-45ad-b740-aea83e05fb80",
   "metadata": {},
   "source": [
    "to include a backslash in a string, escape the backslash with another backslash ('\\\\')"
   ]
  },
  {
   "cell_type": "markdown",
   "id": "b292a2b3-3d9a-4ede-93fa-83a95095dbaf",
   "metadata": {},
   "source": [
    "4. The string &quot;Howl&#39;s Moving Castle&quot; is a correct value. Why isn&#39;t the single quote character in the\n",
    "word Howl&#39;s not escaped a problem?"
   ]
  },
  {
   "cell_type": "markdown",
   "id": "e8e4e56c-c52d-4a90-a104-110c6842cdf6",
   "metadata": {},
   "source": [
    "the outer quotes enclosing the string value is a double quote, so the apostrophe inside the string does not need escaping, if the outer quote is a single quote, then the apostrophe inside the string needs to be escaped so as to be not mistaken as a end quote"
   ]
  },
  {
   "cell_type": "markdown",
   "id": "f6df6827-45b1-47eb-8fd9-8650aef43657",
   "metadata": {},
   "source": [
    "5. How do you write a string of newlines if you don&#39;t want to use the n character?"
   ]
  },
  {
   "cell_type": "markdown",
   "id": "ff31aa68-dffc-414a-82de-67e0f4fa2c8c",
   "metadata": {},
   "source": [
    "we can use a multiline string, multiline string start and end with three quotes,\n",
    "```python\n",
    "'''\n",
    "multiline\n",
    "string\n",
    "'''\n",
    "```"
   ]
  },
  {
   "cell_type": "markdown",
   "id": "ebcf1d31-e62f-4cb9-91e4-2e0886ffd3d0",
   "metadata": {},
   "source": [
    "6. What are the values of the given expressions?"
   ]
  },
  {
   "cell_type": "markdown",
   "id": "947f935b-0fa6-42b4-bf44-3565e647ef61",
   "metadata": {},
   "source": [
    "&#39;Hello, world!&#39;[1]\n",
    "- e\n",
    "\n",
    "&#39;Hello, world!&#39;[0:5]\n",
    "- Hello\n",
    "\n",
    "&#39;Hello, world!&#39;[:5]\n",
    "- Hello\n",
    "\n",
    "&#39;Hello, world!&#39;[3:]\n",
    "- lo, world!"
   ]
  },
  {
   "cell_type": "markdown",
   "id": "4e4ccea4-2d63-401d-96d8-5b4bc4e68faa",
   "metadata": {},
   "source": [
    "7. What are the values of the following expressions?"
   ]
  },
  {
   "cell_type": "markdown",
   "id": "4d90b651-4c38-426d-a62f-e923e46be48e",
   "metadata": {},
   "source": [
    "&#39;Hello&#39;.upper()\n",
    "- HELLO\n",
    "\n",
    "&#39;Hello&#39;.upper().isupper()\n",
    "- True\n",
    "\n",
    "&#39;Hello&#39;.upper().lower()\n",
    "- hello"
   ]
  },
  {
   "cell_type": "markdown",
   "id": "df39f40c-3137-4899-ac7f-577deed31a41",
   "metadata": {},
   "source": [
    "8. What are the values of the following expressions?"
   ]
  },
  {
   "cell_type": "markdown",
   "id": "3078b9c5-af85-4377-98e7-7f51d5a8f3ef",
   "metadata": {},
   "source": [
    "&#39;Remember, remember, the fifth of July.&#39;.split()\n",
    "- ['Remember,', 'remember,', 'the', 'fifth', 'of', 'July.']\n",
    "\n",
    "&#39;-&#39;.join(&#39;There can only one.&#39;.split())\n",
    "- 'There-can-only-one'"
   ]
  },
  {
   "cell_type": "markdown",
   "id": "542b3a14-a94c-4083-9670-8b60391dcf22",
   "metadata": {},
   "source": [
    "9. What are the methods for right-justifying, left-justifying, and centering a string?"
   ]
  },
  {
   "cell_type": "markdown",
   "id": "51243963-624b-4e01-a4d5-4cfeae2d1198",
   "metadata": {},
   "source": [
    "in a f-string, we can use\n",
    "- < for left align\n",
    "- \\> for right align\n",
    "- ^ for centre align"
   ]
  },
  {
   "cell_type": "markdown",
   "id": "8456e5ad-3e04-4dc9-a3ac-812054265f21",
   "metadata": {},
   "source": [
    "10. What is the best way to remove whitespace characters from the start or end?"
   ]
  },
  {
   "cell_type": "markdown",
   "id": "870911a0-4d85-466c-a912-73328cb3726f",
   "metadata": {},
   "source": [
    "strip()\n",
    "```python\n",
    "lin = '     name        '\n",
    "lin.strip()\n",
    "```"
   ]
  },
  {
   "cell_type": "code",
   "execution_count": null,
   "id": "edfcdfde-49c9-49e3-b079-a1e62540c4b6",
   "metadata": {},
   "outputs": [],
   "source": []
  }
 ],
 "metadata": {
  "kernelspec": {
   "display_name": "Python 3 (ipykernel)",
   "language": "python",
   "name": "python3"
  },
  "language_info": {
   "codemirror_mode": {
    "name": "ipython",
    "version": 3
   },
   "file_extension": ".py",
   "mimetype": "text/x-python",
   "name": "python",
   "nbconvert_exporter": "python",
   "pygments_lexer": "ipython3",
   "version": "3.10.6"
  }
 },
 "nbformat": 4,
 "nbformat_minor": 5
}
