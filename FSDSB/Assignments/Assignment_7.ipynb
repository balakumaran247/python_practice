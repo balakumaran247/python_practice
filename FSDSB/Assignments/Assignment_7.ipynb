{
 "cells": [
  {
   "cell_type": "markdown",
   "id": "a5228831-1e26-41ba-931a-c76b967c16cc",
   "metadata": {},
   "source": [
    "# Assignment 7"
   ]
  },
  {
   "cell_type": "markdown",
   "id": "e0da9a47-b9de-4bb1-adcd-2070831d5c16",
   "metadata": {},
   "source": [
    "1. What is the name of the feature responsible for generating Regex objects?"
   ]
  },
  {
   "cell_type": "markdown",
   "id": "b7aca2a3-4b38-48a8-8fae-505427568b0a",
   "metadata": {},
   "source": [
    "regex operations are performed with the help of re package. `import re`\n",
    "\n",
    "`re.compile()` is the function that helps in generating the regex objects"
   ]
  },
  {
   "cell_type": "markdown",
   "id": "34bc5bbc-501a-4e57-8248-a810f7133819",
   "metadata": {},
   "source": [
    "2. Why do raw strings often appear in Regex objects?"
   ]
  },
  {
   "cell_type": "markdown",
   "id": "aa2e00eb-d22d-443f-927a-170e5eb9a48e",
   "metadata": {},
   "source": [
    "regex uses patterns for matching and some special characters are needed to define patterns, thus to safely produce results with special characters, raw strings are used."
   ]
  },
  {
   "cell_type": "markdown",
   "id": "fc9b70f8-304b-4fac-bc6f-e58b71a1f983",
   "metadata": {},
   "source": [
    "3. What is the return value of the search() method?"
   ]
  },
  {
   "cell_type": "markdown",
   "id": "7c685a43-8f60-4731-9667-090afc600d74",
   "metadata": {},
   "source": [
    "search() methods returns `Match` object"
   ]
  },
  {
   "cell_type": "markdown",
   "id": "3b111ad9-6393-41d1-a176-c0941b9b618f",
   "metadata": {},
   "source": [
    "4. From a Match item, how do you get the actual strings that match the pattern?"
   ]
  },
  {
   "cell_type": "markdown",
   "id": "5bf6f1cd-22ef-4fbf-ad89-0a2bd205464b",
   "metadata": {},
   "source": [
    "`Match.string` gives the actual string that matches"
   ]
  },
  {
   "cell_type": "markdown",
   "id": "223dd67c-a31c-47fb-8442-4b89e5a939ce",
   "metadata": {},
   "source": [
    "5. In the regex which created from the r'(\\d\\d\\d)-(\\d\\d\\d-\\d\\d\\d\\d)', what does group zero cover? Group 2? Group 1?"
   ]
  },
  {
   "cell_type": "markdown",
   "id": "b3a65cc9-4f8b-4d89-a4be-f8a9c933c282",
   "metadata": {},
   "source": [
    "`Match.group(0)` - gives the entire string matched\n",
    "\n",
    "`Match.group(1)` - gives the pattern matched by \\d\\d\\d\n",
    "\n",
    "`Match.group(2)` - gives the pattern matched by \\d\\d\\d-\\d\\d\\d\\d"
   ]
  },
  {
   "cell_type": "markdown",
   "id": "7778086a-ede1-47d4-acab-e3c5244abbd6",
   "metadata": {},
   "source": [
    "6. In standard expression syntax, parentheses and intervals have distinct meanings. How can you tell a regex that you want it to fit real parentheses and periods?"
   ]
  },
  {
   "cell_type": "markdown",
   "id": "3ba74622-c2dc-4135-9f81-95b1a7fec5a6",
   "metadata": {},
   "source": [
    "they can be escaped with a backslash \"\\\""
   ]
  },
  {
   "cell_type": "markdown",
   "id": "6bee9106-eebf-48f5-bdde-fca0dc86f500",
   "metadata": {},
   "source": [
    "7. The findall() method returns a string list or a list of string tuples. What causes it to return one of the two options?"
   ]
  },
  {
   "cell_type": "markdown",
   "id": "5aec35a7-4bcb-4e70-8d28-c8bc3fc7bc67",
   "metadata": {},
   "source": [
    "if groups are not there then the return value is list of strings, but if groups are there then list of string tuples is the return value."
   ]
  },
  {
   "cell_type": "markdown",
   "id": "50fa536f-f86d-4352-aed2-aab099956a54",
   "metadata": {},
   "source": [
    "8. In standard expressions, what does the | character mean?"
   ]
  },
  {
   "cell_type": "markdown",
   "id": "dc8a6b02-b4db-4134-ab42-4142bac7b58d",
   "metadata": {},
   "source": [
    "OR operator on bit level"
   ]
  },
  {
   "cell_type": "markdown",
   "id": "042f3358-68b4-4937-aa61-1e0e2e4f69dd",
   "metadata": {},
   "source": [
    "9. In regular expressions, what does the character stand for?"
   ]
  },
  {
   "cell_type": "markdown",
   "id": "dde00cab-db17-41af-bcab-29db5045fe66",
   "metadata": {},
   "source": [
    "In Regular expression \"|\" does OR operation"
   ]
  },
  {
   "cell_type": "markdown",
   "id": "1edcf071-8c14-467c-b705-fc08ad6712ee",
   "metadata": {},
   "source": [
    "10.In regular expressions, what is the difference between the + and * characters?"
   ]
  },
  {
   "cell_type": "markdown",
   "id": "6de171a1-78a7-47a3-992b-46d2196b2a56",
   "metadata": {},
   "source": [
    "the + character will denote the pattern that consider any number of occurence of the specified character in the pattern but if no occurence of the character in sequence then the match won't be made.\n",
    "\n",
    "the * character will find the pattern even if there are no occurence of subsequent character in the sequence to match."
   ]
  },
  {
   "cell_type": "markdown",
   "id": "e3e148a8-743c-40cc-a52e-6f807b7e416f",
   "metadata": {},
   "source": [
    "11. What is the difference between {4} and {4,5} in regular expression?"
   ]
  },
  {
   "cell_type": "markdown",
   "id": "c0bf9f8d-dd2f-4f1c-b750-6f1e4f244ba5",
   "metadata": {},
   "source": [
    "{4} - will find out patten matching exactly 4 occurences of the character\n",
    "\n",
    "{4,5} - will find out pattern matching exactly 4 or 5 occurneces of the character"
   ]
  },
  {
   "cell_type": "markdown",
   "id": "63599ad6-00c0-4bc5-b45f-5b5d8321e2ea",
   "metadata": {},
   "source": [
    "12. What do you mean by the \\d, \\w, and \\s shorthand character classes signify in regular\n",
    "expressions?"
   ]
  },
  {
   "cell_type": "markdown",
   "id": "dc117454-92c5-4fe6-beb8-0ceb84e86723",
   "metadata": {},
   "source": [
    "\\d - matches digits\n",
    "\n",
    "\\w - matches any alpha numerical\n",
    "\n",
    "\\s - matches white spaces"
   ]
  },
  {
   "cell_type": "markdown",
   "id": "10b886ce-3331-4960-a79a-6ab407643729",
   "metadata": {},
   "source": [
    "13. What do means by \\D, \\W, and \\S shorthand character classes signify in regular expressions?"
   ]
  },
  {
   "cell_type": "markdown",
   "id": "ed4d58d6-b946-4773-b128-95176bd53b50",
   "metadata": {},
   "source": [
    "\\D - matches characters not digits\n",
    "\n",
    "\\W - matches not alpha numerical\n",
    "\n",
    "\\S - matches not white spaces"
   ]
  },
  {
   "cell_type": "markdown",
   "id": "b4ad883f-fe43-4631-ace0-2311f93ab9d8",
   "metadata": {},
   "source": [
    "14. What is the difference between .\\*? and .\\*?"
   ]
  },
  {
   "cell_type": "markdown",
   "id": "0af82443-8af7-416a-9a9e-06be36db3ace",
   "metadata": {},
   "source": [
    ".? - denotes no or one occurance of any character\n",
    "\n",
    ".* - denotes no or any occurance of any character"
   ]
  },
  {
   "cell_type": "markdown",
   "id": "1259bec2-5722-43d0-81a1-3c572b601da0",
   "metadata": {},
   "source": [
    "15. What is the syntax for matching both numbers and lowercase letters with a character class?"
   ]
  },
  {
   "cell_type": "markdown",
   "id": "5cf74ef0-9ff1-49c0-930b-023a27167d6d",
   "metadata": {},
   "source": [
    "\\w - will match both numbers and lowercase letters"
   ]
  },
  {
   "cell_type": "markdown",
   "id": "84cc6946-e8e8-447c-be8c-7d7e58d951d8",
   "metadata": {},
   "source": [
    "16. What is the procedure for making a normal expression in regax case insensitive?"
   ]
  },
  {
   "cell_type": "markdown",
   "id": "a6683f36-4eec-4e0f-938e-68cc76c1118a",
   "metadata": {},
   "source": [
    "re.IGNORECASE argument can be passed to re.compile() method to make matching case insensitive."
   ]
  },
  {
   "cell_type": "markdown",
   "id": "4b84cdff-c535-4113-a260-39ab9cc6d7f7",
   "metadata": {},
   "source": [
    "17. What does the . character normally match? What does it match if re.DOTALL is passed as 2nd argument in re.compile()?"
   ]
  },
  {
   "cell_type": "markdown",
   "id": "3c11b9c4-75bd-4255-9cda-d72afdfe98bf",
   "metadata": {},
   "source": [
    "`.` in reular expression denotes any character except '\\n' new line character\n",
    "\n",
    "re.DOTALL argument will make the `.` operation to consider even the new line character"
   ]
  },
  {
   "cell_type": "markdown",
   "id": "b83d46b6-9794-4c13-bd33-a1235f2a5425",
   "metadata": {},
   "source": [
    "18. If numReg = re.compile(r'\\d+'), what will numRegex.sub('X', '11 drummers, 10 pipers, five rings, 4 hen') return?"
   ]
  },
  {
   "cell_type": "markdown",
   "id": "86e3847a-c6b2-446a-9ce4-bbcde9a92c1e",
   "metadata": {},
   "source": [
    "`re.compile(r'\\d+')` will match with any digits that occur\n",
    "\n",
    "`sub('X', '')` will substitute the matched digits with 'X'\n",
    "\n",
    "X drummers, X pipers, five rings, X hen"
   ]
  },
  {
   "cell_type": "markdown",
   "id": "c3799ea7-3a6e-4b7f-933d-b01a3e0838ab",
   "metadata": {},
   "source": [
    "19. What does passing re.VERBOSE as the 2nd argument to re.compile() allow to do?"
   ]
  },
  {
   "cell_type": "markdown",
   "id": "2e7d1642-69f0-48a3-bf99-a303186ca632",
   "metadata": {},
   "source": [
    "re.VERBOSE allows to write the regular expression beautifully in multi line or sections for better understanding"
   ]
  },
  {
   "cell_type": "markdown",
   "id": "4bf16ea2-1cfe-4fcd-9034-bb3d5f5cabcb",
   "metadata": {},
   "source": [
    "20. How would you write a regex that match a number with comma for every three digits? It must match the given following:\n",
    "\n",
    "'42'\n",
    "\n",
    "'1,234'\n",
    "\n",
    "'6,368,745'\n",
    "\n",
    "but not the following:\n",
    "\n",
    "'12,34,567' (which has only two digits between the commas)\n",
    "\n",
    "'1234' (which lacks commas)"
   ]
  },
  {
   "cell_type": "code",
   "execution_count": 1,
   "id": "48bd366a-cda3-48ae-96f5-a94962ec14b9",
   "metadata": {},
   "outputs": [
    {
     "name": "stdout",
     "output_type": "stream",
     "text": [
      "42\n",
      "1,234\n",
      "6,368,745\n",
      "None\n",
      "None\n"
     ]
    }
   ],
   "source": [
    "import re\n",
    "patt = re.compile(r\"(^\\d{1,3})(,\\d{3})*$\")\n",
    "seq = ['42', '1,234', '6,368,745', '12,34,567', '1234']\n",
    "\n",
    "for i in seq:\n",
    "    try:\n",
    "        print(patt.search(i).group(0))\n",
    "    except AttributeError:\n",
    "        print(None)"
   ]
  },
  {
   "cell_type": "markdown",
   "id": "2397c56e-cf43-4172-bbdd-b5695c20a8c8",
   "metadata": {},
   "source": [
    "21. How would you write a regex that matches the full name of someone whose last name is Watanabe? You can assume that the first name that comes before it will always be one word that begins with a capital letter. The regex must match the following:\n",
    "\n",
    "'Haruto Watanabe'\n",
    "\n",
    "'Alice Watanabe'\n",
    "\n",
    "'RoboCop Watanabe'\n",
    "\n",
    "but not the following:\n",
    "\n",
    "'haruto Watanabe' (where the first name is not capitalized)\n",
    "\n",
    "'Mr. Watanabe' (where the preceding word has a nonletter character)\n",
    "\n",
    "'Watanabe' (which has no first name)\n",
    "\n",
    "'Haruto watanabe' (where Watanabe is not capitalized)"
   ]
  },
  {
   "cell_type": "code",
   "execution_count": 5,
   "id": "e7a970a3-defe-4045-96b1-91338cea0ae7",
   "metadata": {},
   "outputs": [
    {
     "name": "stdout",
     "output_type": "stream",
     "text": [
      "Haruto Watanabe\n",
      "Alice Watanabe\n",
      "RoboCop Watanabe\n",
      "None\n",
      "None\n",
      "None\n",
      "None\n"
     ]
    }
   ],
   "source": [
    "import re\n",
    "patt = re.compile(r\"^[A-Z]\\w+\\sWatanabe$\")\n",
    "seq = ['Haruto Watanabe', 'Alice Watanabe', 'RoboCop Watanabe', 'haruto Watanabe',\n",
    "      'Mr. Watanabe', 'Watanabe', 'Haruto watanabe']\n",
    "\n",
    "for i in seq:\n",
    "    try:\n",
    "        print(patt.search(i).group(0))\n",
    "    except AttributeError:\n",
    "        print(None)"
   ]
  },
  {
   "cell_type": "markdown",
   "id": "2945db61-44c1-4ab5-a491-5f7aea0f0f36",
   "metadata": {},
   "source": [
    "22. How would you write a regex that matches a sentence where the first word is either Alice, Bob, or Carol; the second word is either eats, pets, or throws; the third word is apples, cats, or baseballs; and the sentence ends with a period? This regex should be case-insensitive. It must match the following:\n",
    "\n",
    "'Alice eats apples.'\n",
    "\n",
    "'Bob pets cats.'\n",
    "\n",
    "'Carol throws baseballs.'\n",
    "\n",
    "'Alice throws Apples.'\n",
    "\n",
    "'BOB EATS CATS.'\n",
    "\n",
    "but not the following:\n",
    "\n",
    "'RoboCop eats apples.'\n",
    "\n",
    "'ALICE THROWS FOOTBALLS.'\n",
    "\n",
    "'Carol eats 7 cats.'"
   ]
  },
  {
   "cell_type": "code",
   "execution_count": 18,
   "id": "0a7d4d05-0953-4e39-9d78-8443c0d3ce2e",
   "metadata": {},
   "outputs": [
    {
     "name": "stdout",
     "output_type": "stream",
     "text": [
      "Alice eats apples.\n",
      "Bob pets cats.\n",
      "Carol throws baseballs.\n",
      "Alice throws Apples.\n",
      "BOB EATS CATS.\n",
      "None\n",
      "None\n",
      "None\n"
     ]
    }
   ],
   "source": [
    "import re\n",
    "patt = re.compile(r\"^(Alice|Bob|Carol)\\s(eats|pets|throws)\\s(apples|cats|baseballs)\\.$\", re.IGNORECASE)\n",
    "seq = ['Alice eats apples.', 'Bob pets cats.', 'Carol throws baseballs.',\n",
    "       'Alice throws Apples.', 'BOB EATS CATS.', 'RoboCop eats apples.',\n",
    "       'ALICE THROWS FOOTBALLS.', 'Carol eats 7 cats.']\n",
    "\n",
    "for i in seq:\n",
    "    try:\n",
    "        print(patt.search(i).string)\n",
    "    except AttributeError:\n",
    "        print(None)"
   ]
  },
  {
   "cell_type": "code",
   "execution_count": null,
   "id": "058c4784-6913-4b0e-a808-e1a0417ba595",
   "metadata": {},
   "outputs": [],
   "source": []
  }
 ],
 "metadata": {
  "kernelspec": {
   "display_name": "Python 3 (ipykernel)",
   "language": "python",
   "name": "python3"
  },
  "language_info": {
   "codemirror_mode": {
    "name": "ipython",
    "version": 3
   },
   "file_extension": ".py",
   "mimetype": "text/x-python",
   "name": "python",
   "nbconvert_exporter": "python",
   "pygments_lexer": "ipython3",
   "version": "3.10.6"
  }
 },
 "nbformat": 4,
 "nbformat_minor": 5
}
