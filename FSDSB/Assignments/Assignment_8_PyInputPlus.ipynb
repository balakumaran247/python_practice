{
 "cells": [
  {
   "cell_type": "markdown",
   "id": "4fb09f3b-b227-46fd-9326-3540aa437198",
   "metadata": {},
   "source": [
    "# Assignment 8"
   ]
  },
  {
   "cell_type": "markdown",
   "id": "4130ec76-ea8b-4f55-a5fe-287b7581c35f",
   "metadata": {},
   "source": [
    "1. Is the Python Standard Library included with PyInputPlus?"
   ]
  },
  {
   "cell_type": "markdown",
   "id": "a61783a0-5df9-4917-811f-3eeaf7073678",
   "metadata": {},
   "source": [
    "No, the package needs to be installed with `pip install PyInputPlus`"
   ]
  },
  {
   "cell_type": "markdown",
   "id": "8b4dcc2c-ed8d-4b77-aacd-b47a98808e4a",
   "metadata": {},
   "source": [
    "2. Why is PyInputPlus commonly imported with import pyinputplus as pypi?"
   ]
  },
  {
   "cell_type": "markdown",
   "id": "b8a0a5cf-556f-404f-9096-2401b08fdc78",
   "metadata": {},
   "source": [
    "`import pyinputplus as pyip` - pyip is shortform of (PYI)nput(P)lus"
   ]
  },
  {
   "cell_type": "markdown",
   "id": "79fd309f-e4c6-4e71-8af3-7601f7412f65",
   "metadata": {},
   "source": [
    "3. How do you distinguish between inputInt() and inputFloat()?"
   ]
  },
  {
   "cell_type": "markdown",
   "id": "879b03ba-b05f-45c8-abea-a57380169ca8",
   "metadata": {},
   "source": [
    "inputInt() takes an integer value while the inputFloat() takes float value. you can use \"prompt\" argument to mention what value needs to be entered from the user."
   ]
  },
  {
   "cell_type": "markdown",
   "id": "18b2a73a-2e02-4541-9a47-7222343f6527",
   "metadata": {},
   "source": [
    "4. Using PyInputPlus, how do you ensure that the user enters a whole number between 0 and 99?"
   ]
  },
  {
   "cell_type": "markdown",
   "id": "679a3ab9-faa3-4f56-918a-13bdcb23c865",
   "metadata": {},
   "source": [
    "we can use minimum and maximum arguments to restrict the input,\n",
    "```python\n",
    "import pyinputplus as pyip\n",
    "val = pyip.inputInt(min=0, max=99)\n",
    "```"
   ]
  },
  {
   "cell_type": "markdown",
   "id": "09693221-dcae-4fa8-8a16-7b6fa4cf986f",
   "metadata": {},
   "source": [
    "5. What is transferred to the keyword arguments allowRegexes and blockRegexes?"
   ]
  },
  {
   "cell_type": "markdown",
   "id": "715c026a-5be5-4a87-8579-e0dc1b57e23f",
   "metadata": {},
   "source": [
    "a list of regex strings that will be allowed or blocked, this is an argument passed to inputStr() method to make certain inputs valid or invalid."
   ]
  },
  {
   "cell_type": "markdown",
   "id": "72a12d0f-6830-42ba-bd5a-ececa2fe7e33",
   "metadata": {},
   "source": [
    "6. If a blank input is entered three times, what does inputStr(limit=3) do?"
   ]
  },
  {
   "cell_type": "markdown",
   "id": "3714dd6b-00fc-4700-8b4d-d81e67d7af8b",
   "metadata": {},
   "source": [
    "for the first two tries, \"Blank values are not allowed\" message will be prompted and asked to enter string again, but once blank input for the third time is given `RetryLimitException` will be raised."
   ]
  },
  {
   "cell_type": "markdown",
   "id": "739fa7ed-354d-4e90-8938-01c7cd8c2e5b",
   "metadata": {},
   "source": [
    "7. If blank input is entered three times, what does inputStr(limit=3, default=&#39;hello&#39;) do?"
   ]
  },
  {
   "cell_type": "markdown",
   "id": "32d9d2fd-2fff-4195-b8e7-776a319bf9a5",
   "metadata": {},
   "source": [
    "default value `hello` will be returned or assigned."
   ]
  },
  {
   "cell_type": "code",
   "execution_count": null,
   "id": "5b8374d0-6473-4aeb-8214-2acdcd721bb2",
   "metadata": {},
   "outputs": [],
   "source": []
  }
 ],
 "metadata": {
  "kernelspec": {
   "display_name": "Python 3 (ipykernel)",
   "language": "python",
   "name": "python3"
  },
  "language_info": {
   "codemirror_mode": {
    "name": "ipython",
    "version": 3
   },
   "file_extension": ".py",
   "mimetype": "text/x-python",
   "name": "python",
   "nbconvert_exporter": "python",
   "pygments_lexer": "ipython3",
   "version": "3.10.6"
  }
 },
 "nbformat": 4,
 "nbformat_minor": 5
}
