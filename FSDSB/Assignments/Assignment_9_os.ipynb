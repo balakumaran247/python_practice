{
 "cells": [
  {
   "cell_type": "markdown",
   "id": "9539e5c6-45ec-4198-b14a-aea146d07235",
   "metadata": {},
   "source": [
    "# Assignment 9"
   ]
  },
  {
   "cell_type": "markdown",
   "id": "a8912e27-d07a-4514-88f9-472628749433",
   "metadata": {},
   "source": [
    "1. To what does a relative path refer?"
   ]
  },
  {
   "cell_type": "markdown",
   "id": "5ad652e2-5976-4329-8b67-127448256e41",
   "metadata": {},
   "source": [
    "Relative Path refers to the location/path of a file relative to (from) the current working directory"
   ]
  },
  {
   "cell_type": "markdown",
   "id": "c3156730-4fd7-42fe-9718-7e96e1a3ab9b",
   "metadata": {},
   "source": [
    "2. What does an absolute path start with your operating system?"
   ]
  },
  {
   "cell_type": "markdown",
   "id": "41e6d74b-50fe-4d15-bbb4-e079cde784e7",
   "metadata": {},
   "source": [
    "The starting point of the absolute path varies based on the operating system,\n",
    "\n",
    "in windows - the absolute path starts with the drive letter in which the file or directory is located like (C:\\ or D:\\)\n",
    "\n",
    "in mac or linux - it starts with the home directory of an user in the root directory (/home/name/)"
   ]
  },
  {
   "cell_type": "markdown",
   "id": "77117c3c-8a38-465a-966f-ce0c4350130e",
   "metadata": {},
   "source": [
    "3. What do the functions os.getcwd() and os.chdir() do?"
   ]
  },
  {
   "cell_type": "markdown",
   "id": "b2858db5-708d-4a20-a9fb-053070939aea",
   "metadata": {},
   "source": [
    "`os.getcwd()` - returns the current working directory\n",
    "\n",
    "`os.chdir()` - changes the current working directory to the specified directory"
   ]
  },
  {
   "cell_type": "markdown",
   "id": "5b696997-244c-4ece-a775-7644278429a3",
   "metadata": {},
   "source": [
    "4. What are the . and .. folders?"
   ]
  },
  {
   "cell_type": "markdown",
   "id": "45626091-4d9c-40a9-8e3d-3f2492166d1c",
   "metadata": {},
   "source": [
    "`.` - refers to the current directory\n",
    "\n",
    "`..` - refers to the directory above or parent directory"
   ]
  },
  {
   "cell_type": "markdown",
   "id": "2a2736a9-9f30-418e-9a56-5c80dc393cb4",
   "metadata": {},
   "source": [
    "5. In C:\\bacon\\eggs\\spam.txt, which part is the dir name, and which part is the base name?"
   ]
  },
  {
   "cell_type": "markdown",
   "id": "7ab59496-3185-49fa-b9e8-dcd5bca41bb2",
   "metadata": {},
   "source": [
    "dir name = `C:\\bacon\\eggs`\n",
    "\n",
    "base name = `spam.txt`"
   ]
  },
  {
   "cell_type": "markdown",
   "id": "f541aa07-5483-44e3-8669-bec0b14a65c5",
   "metadata": {},
   "source": [
    "6. What are the three “mode” arguments that can be passed to the open() function?"
   ]
  },
  {
   "cell_type": "markdown",
   "id": "76bb1073-3a39-4730-b478-de1f7b244fbc",
   "metadata": {},
   "source": [
    "three modes in open() function -\n",
    "\n",
    "`r` - read mode\n",
    "\n",
    "`w` - write mode\n",
    "\n",
    "`a` - append mode"
   ]
  },
  {
   "cell_type": "markdown",
   "id": "c42851cc-0c14-47d0-8137-e6f2d7c7ab16",
   "metadata": {},
   "source": [
    "7. What happens if an existing file is opened in write mode?"
   ]
  },
  {
   "cell_type": "markdown",
   "id": "968879ad-3804-43a6-84ff-710b86fe2b75",
   "metadata": {},
   "source": [
    "the contents exising in the file will be overwritten or cleared."
   ]
  },
  {
   "cell_type": "markdown",
   "id": "017f610c-06b5-45e3-9993-f9e89e556ad2",
   "metadata": {},
   "source": [
    "8. How do you tell the difference between read() and readlines()?"
   ]
  },
  {
   "cell_type": "markdown",
   "id": "54195a32-adb3-41c1-b7f0-bfa368e7530c",
   "metadata": {},
   "source": [
    "`read()` - read function will return the entire file into a single string\n",
    "\n",
    "`readlines()` - will return a list of strings, where each string is a line in the file"
   ]
  },
  {
   "cell_type": "markdown",
   "id": "ef494ae7-f5c9-4bdf-aa93-3527da0a075e",
   "metadata": {},
   "source": [
    "9. What data structure does a shelf value resemble?"
   ]
  },
  {
   "cell_type": "markdown",
   "id": "581f1eba-39e7-45ac-a2fc-b7039f5dec2c",
   "metadata": {},
   "source": [
    "data structure of shelf is dictionary, only string type can be key while any picklable object can be value."
   ]
  },
  {
   "cell_type": "code",
   "execution_count": null,
   "id": "f11c7e66-8e2e-4d4a-b14b-093c6a604d90",
   "metadata": {},
   "outputs": [],
   "source": []
  }
 ],
 "metadata": {
  "kernelspec": {
   "display_name": "Python 3 (ipykernel)",
   "language": "python",
   "name": "python3"
  },
  "language_info": {
   "codemirror_mode": {
    "name": "ipython",
    "version": 3
   },
   "file_extension": ".py",
   "mimetype": "text/x-python",
   "name": "python",
   "nbconvert_exporter": "python",
   "pygments_lexer": "ipython3",
   "version": "3.10.6"
  }
 },
 "nbformat": 4,
 "nbformat_minor": 5
}
