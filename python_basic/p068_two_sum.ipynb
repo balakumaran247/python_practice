{
 "cells": [
  {
   "cell_type": "markdown",
   "id": "fabulous-speaker",
   "metadata": {},
   "source": [
    "## Two Sum Problem"
   ]
  },
  {
   "cell_type": "code",
   "execution_count": 4,
   "id": "weird-shirt",
   "metadata": {},
   "outputs": [],
   "source": [
    "def two_sum (inlist, target):\n",
    "    for digit in inlist:\n",
    "        value = target-digit\n",
    "        if value in inlist and inlist.index(digit)!= inlist.index(value):\n",
    "            print(f\"{inlist.index(digit)},{inlist.index(value)}\")\n",
    "            break"
   ]
  },
  {
   "cell_type": "code",
   "execution_count": 5,
   "id": "sophisticated-elite",
   "metadata": {},
   "outputs": [
    {
     "name": "stdout",
     "output_type": "stream",
     "text": [
      "2,3\n"
     ]
    }
   ],
   "source": [
    "two_sum([2,5,3,7,4],10)"
   ]
  },
  {
   "cell_type": "code",
   "execution_count": null,
   "id": "demonstrated-hollow",
   "metadata": {},
   "outputs": [],
   "source": []
  }
 ],
 "metadata": {
  "kernelspec": {
   "display_name": "Python 3",
   "language": "python",
   "name": "python3"
  },
  "language_info": {
   "codemirror_mode": {
    "name": "ipython",
    "version": 3
   },
   "file_extension": ".py",
   "mimetype": "text/x-python",
   "name": "python",
   "nbconvert_exporter": "python",
   "pygments_lexer": "ipython3",
   "version": "3.6.12"
  }
 },
 "nbformat": 4,
 "nbformat_minor": 5
}
