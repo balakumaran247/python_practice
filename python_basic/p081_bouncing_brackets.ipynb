{
 "cells": [
  {
   "cell_type": "markdown",
   "id": "romance-julian",
   "metadata": {},
   "source": [
    "## Bounching Brackets"
   ]
  },
  {
   "cell_type": "code",
   "execution_count": 1,
   "id": "registered-lincoln",
   "metadata": {},
   "outputs": [],
   "source": [
    "def bounce(in_string):\n",
    "    brackets = {'(' : ')', '{' : '}', '[' : ']'}\n",
    "    stack = []\n",
    "    in_list = list(in_string)\n",
    "    for char in in_list:\n",
    "        if char in brackets.keys():\n",
    "            stack.append(char)\n",
    "        elif stack!=[] and brackets[stack[-1]] == char:\n",
    "            stack.pop()\n",
    "        else:\n",
    "            return False\n",
    "    return True"
   ]
  },
  {
   "cell_type": "code",
   "execution_count": 2,
   "id": "bacterial-newark",
   "metadata": {},
   "outputs": [
    {
     "data": {
      "text/plain": [
       "True"
      ]
     },
     "execution_count": 2,
     "metadata": {},
     "output_type": "execute_result"
    }
   ],
   "source": [
    "bounce('[[({})]]')"
   ]
  },
  {
   "cell_type": "code",
   "execution_count": 3,
   "id": "forward-feelings",
   "metadata": {},
   "outputs": [
    {
     "data": {
      "text/plain": [
       "False"
      ]
     },
     "execution_count": 3,
     "metadata": {},
     "output_type": "execute_result"
    }
   ],
   "source": [
    "bounce('[({)})]')"
   ]
  },
  {
   "cell_type": "code",
   "execution_count": 4,
   "id": "international-dictionary",
   "metadata": {},
   "outputs": [
    {
     "data": {
      "text/plain": [
       "False"
      ]
     },
     "execution_count": 4,
     "metadata": {},
     "output_type": "execute_result"
    }
   ],
   "source": [
    "bounce('][({})]')"
   ]
  }
 ],
 "metadata": {
  "kernelspec": {
   "display_name": "Python 3",
   "language": "python",
   "name": "python3"
  },
  "language_info": {
   "codemirror_mode": {
    "name": "ipython",
    "version": 3
   },
   "file_extension": ".py",
   "mimetype": "text/x-python",
   "name": "python",
   "nbconvert_exporter": "python",
   "pygments_lexer": "ipython3",
   "version": "3.8.5"
  }
 },
 "nbformat": 4,
 "nbformat_minor": 5
}
