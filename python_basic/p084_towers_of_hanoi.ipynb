{
 "cells": [
  {
   "cell_type": "markdown",
   "id": "recreational-maintenance",
   "metadata": {},
   "source": [
    "## Towers of Hanoi"
   ]
  },
  {
   "cell_type": "code",
   "execution_count": 1,
   "id": "blessed-policy",
   "metadata": {},
   "outputs": [],
   "source": [
    "A = [14,13,12,11,10,9,8,7,6,5,4,3,2,1]\n",
    "B = []\n",
    "C = []\n",
    "count = 0\n",
    "def hanoi(A,B,C,n):\n",
    "    global count\n",
    "    if n == 1:\n",
    "        count+=1\n",
    "        disk=A.pop()\n",
    "        C.append(disk)\n",
    "    else:\n",
    "        hanoi(A,C,B,n-1)\n",
    "        hanoi(A,B,C,1)\n",
    "        hanoi(B,A,C,n-1)\n",
    "    return count"
   ]
  },
  {
   "cell_type": "code",
   "execution_count": 2,
   "id": "coordinated-flush",
   "metadata": {},
   "outputs": [
    {
     "data": {
      "text/plain": [
       "16383"
      ]
     },
     "execution_count": 2,
     "metadata": {},
     "output_type": "execute_result"
    }
   ],
   "source": [
    "hanoi(A,B,C,14)"
   ]
  },
  {
   "cell_type": "code",
   "execution_count": 3,
   "id": "healthy-happening",
   "metadata": {},
   "outputs": [
    {
     "data": {
      "text/plain": [
       "[]"
      ]
     },
     "execution_count": 3,
     "metadata": {},
     "output_type": "execute_result"
    }
   ],
   "source": [
    "A"
   ]
  },
  {
   "cell_type": "code",
   "execution_count": 4,
   "id": "departmental-copper",
   "metadata": {},
   "outputs": [
    {
     "data": {
      "text/plain": [
       "[]"
      ]
     },
     "execution_count": 4,
     "metadata": {},
     "output_type": "execute_result"
    }
   ],
   "source": [
    "B"
   ]
  },
  {
   "cell_type": "code",
   "execution_count": 5,
   "id": "mysterious-receptor",
   "metadata": {},
   "outputs": [
    {
     "data": {
      "text/plain": [
       "[14, 13, 12, 11, 10, 9, 8, 7, 6, 5, 4, 3, 2, 1]"
      ]
     },
     "execution_count": 5,
     "metadata": {},
     "output_type": "execute_result"
    }
   ],
   "source": [
    "C"
   ]
  }
 ],
 "metadata": {
  "kernelspec": {
   "display_name": "Python 3",
   "language": "python",
   "name": "python3"
  },
  "language_info": {
   "codemirror_mode": {
    "name": "ipython",
    "version": 3
   },
   "file_extension": ".py",
   "mimetype": "text/x-python",
   "name": "python",
   "nbconvert_exporter": "python",
   "pygments_lexer": "ipython3",
   "version": "3.6.12"
  }
 },
 "nbformat": 4,
 "nbformat_minor": 5
}
