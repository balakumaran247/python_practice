{
 "cells": [
  {
   "cell_type": "markdown",
   "id": "junior-chorus",
   "metadata": {},
   "source": [
    "## Luhn's Algorithm"
   ]
  },
  {
   "cell_type": "code",
   "execution_count": 1,
   "id": "authentic-currency",
   "metadata": {},
   "outputs": [],
   "source": [
    "def check(card):\n",
    "    odd_num = ''\n",
    "    odd_sum = 0\n",
    "    for odd in range(len(card)-2,0,-2):\n",
    "        odd_num = odd_num + str(int(card[odd])*2)\n",
    "    for digit in odd_num:\n",
    "        odd_sum = odd_sum + int(digit)\n",
    "    for even in range(0,len(card),2):\n",
    "        odd_sum = odd_sum + int(card[even])\n",
    "    return odd_sum%10 == 0"
   ]
  },
  {
   "cell_type": "code",
   "execution_count": 2,
   "id": "sweet-glenn",
   "metadata": {},
   "outputs": [
    {
     "name": "stdout",
     "output_type": "stream",
     "text": [
      "This a valid card number? \n",
      "\n",
      "True\n"
     ]
    }
   ],
   "source": [
    "card_number = '371449635398431'\n",
    "print(f'This a valid card number? \\n\\n{check(card_number)}')"
   ]
  }
 ],
 "metadata": {
  "kernelspec": {
   "display_name": "Python 3",
   "language": "python",
   "name": "python3"
  },
  "language_info": {
   "codemirror_mode": {
    "name": "ipython",
    "version": 3
   },
   "file_extension": ".py",
   "mimetype": "text/x-python",
   "name": "python",
   "nbconvert_exporter": "python",
   "pygments_lexer": "ipython3",
   "version": "3.8.5"
  }
 },
 "nbformat": 4,
 "nbformat_minor": 5
}
